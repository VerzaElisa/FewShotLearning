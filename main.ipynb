{
 "cells": [
  {
   "cell_type": "markdown",
   "id": "22efa032",
   "metadata": {},
   "source": [
    "## Data Distribution"
   ]
  },
  {
   "cell_type": "code",
   "execution_count": null,
   "id": "d6cfa9e5",
   "metadata": {},
   "outputs": [],
   "source": [
    "import pandas as pd\n",
    "import numpy as np\n",
    "import os\n",
    "import matplotlib.pyplot as plt\n",
    "from CNN.loader import get_split\n",
    "from CNN.model import train\n",
    "    \n",
    "DATA_DIR = os.path.join('data', 'mammals_calls')\n",
    "h = 164\n",
    "w = 397\n",
    "\n",
    "np.random.seed(2025)"
   ]
  },
  {
   "cell_type": "code",
   "execution_count": null,
   "id": "e88298a9",
   "metadata": {},
   "outputs": [],
   "source": [
    "subfolders = [f.path for f in os.scandir(DATA_DIR) if f.is_dir()]\n",
    "data_info = {}\n",
    "for subfolder in subfolders:\n",
    "    species_name = os.path.basename(subfolder)\n",
    "    file_count = len([f for f in os.listdir(subfolder) if os.path.isfile(os.path.join(subfolder, f))])\n",
    "    data_info[species_name] = file_count\n",
    "count_df = pd.DataFrame(list(data_info.items()), columns=['species', 'file_count'])\n",
    "count_df = count_df.sort_values(by='file_count', ascending=False)\n"
   ]
  },
  {
   "cell_type": "code",
   "execution_count": null,
   "id": "f81b5b4a",
   "metadata": {},
   "outputs": [],
   "source": [
    "count_thousands = count_df[count_df['file_count'] > 1000]\n",
    "count_hundreds = count_df[(count_df['file_count'] > 100) & (count_df['file_count'] < 1000)]\n",
    "count_tens = count_df[count_df['file_count'] < 100]\n",
    "\n",
    "plt.figure(figsize=(15, 6))\n",
    "plt.bar(count_thousands['species'], count_thousands['file_count'], color=\"#87CEEB\")\n",
    "plt.bar(count_hundreds['species'], count_hundreds['file_count'], color='#00688B')\n",
    "plt.bar(count_tens['species'], count_tens['file_count'], color=\"#191970\")\n",
    "plt.xlabel('Species')\n",
    "plt.xticks(rotation=45, ha='right')\n",
    "plt.ylabel('Log Scaled Number of Spectrograms')\n",
    "plt.yscale(\"log\")\n",
    "plt.title('Number of Spectrograms per Species')\n",
    "\n",
    "plt.tight_layout()\n",
    "plt.show()\n",
    "\n",
    "print(f'Total number of species: {count_df.shape[0]}')\n",
    "print(f'Number of species with more than 1000 spectrograms: {count_thousands.shape[0]}')\n",
    "print(f'Number of species with more than 100 but less than 1000 spectrograms: {count_hundreds.shape[0]}')\n",
    "print(f'Number of species with less than 100 spectrograms: {count_tens.shape[0]}')\n"
   ]
  },
  {
   "cell_type": "markdown",
   "id": "ffe20307",
   "metadata": {},
   "source": [
    "## Training CNN"
   ]
  },
  {
   "cell_type": "markdown",
   "id": "03924cec",
   "metadata": {},
   "source": [
    "Training della vm con le classi da più di 1000 immagini"
   ]
  },
  {
   "cell_type": "code",
   "execution_count": null,
   "id": "2b7ec4ae",
   "metadata": {},
   "outputs": [],
   "source": [
    "dataset = os.listdir(DATA_DIR)\n",
    "class_list_1000 = [f for f in dataset if len(os.listdir(os.path.join(DATA_DIR, f))) > 999 and\n",
    "              os.path.isdir(os.path.join(DATA_DIR, f))]\n",
    "n_classes_1000 = len(class_list_1000)\n",
    "print(f'Total classes found: {n_classes_1000}')\n",
    "\n",
    "split_perc = {'train': 0.8, 'val': 0.2}\n",
    "split_ds_1000 = get_split(DATA_DIR, class_list_1000, split_perc, h, w)"
   ]
  },
  {
   "cell_type": "code",
   "execution_count": null,
   "id": "bed46560",
   "metadata": {},
   "outputs": [],
   "source": [
    "train(split_ds_1000['train'], split_ds_1000['val'], patience=5,cp_path='checkpoints', w_h = (w, h), n_classes=n_classes_1000)"
   ]
  },
  {
   "cell_type": "markdown",
   "id": "37e04e91",
   "metadata": {},
   "source": [
    "Training della cnn con le classi da più di 500 immagini"
   ]
  },
  {
   "cell_type": "code",
   "execution_count": null,
   "id": "422ac568",
   "metadata": {},
   "outputs": [],
   "source": [
    "class_list_500 = [f for f in dataset if len(os.listdir(os.path.join(DATA_DIR, f))) > 499 and\n",
    "              os.path.isdir(os.path.join(DATA_DIR, f))]\n",
    "n_classes_500 = len(class_list_500)\n",
    "print(f'Total classes found: {n_classes_500}')\n",
    "\n",
    "split_ds_500 = get_split(DATA_DIR, class_list_500, split_perc, h, w)"
   ]
  },
  {
   "cell_type": "code",
   "execution_count": null,
   "id": "682959f7",
   "metadata": {},
   "outputs": [],
   "source": [
    "train(split_ds_500['train'], split_ds_500['val'], patience=5,cp_path='checkpoints', w_h = (w, h), n_classes=n_classes_500)"
   ]
  },
  {
   "cell_type": "markdown",
   "id": "b2674ef2",
   "metadata": {},
   "source": [
    "Training della cnn con le classi da più di 100 immagini"
   ]
  },
  {
   "cell_type": "code",
   "execution_count": null,
   "id": "486cdeda",
   "metadata": {},
   "outputs": [],
   "source": [
    "class_list_100 = [f for f in dataset if len(os.listdir(os.path.join(DATA_DIR, f))) > 499 and\n",
    "              os.path.isdir(os.path.join(DATA_DIR, f))]\n",
    "n_classes_100 = len(class_list_100)\n",
    "print(f'Total classes found: {n_classes_100}')\n",
    "\n",
    "split_ds_100 = get_split(DATA_DIR, class_list_100, split_perc, h, w)"
   ]
  },
  {
   "cell_type": "code",
   "execution_count": null,
   "id": "9b2ad998",
   "metadata": {},
   "outputs": [],
   "source": [
    "train(split_ds_100['train'], split_ds_100['val'], patience=5,cp_path='checkpoints', w_h = (w, h), n_classes=n_classes_100)"
   ]
  },
  {
   "cell_type": "markdown",
   "id": "7c242207",
   "metadata": {},
   "source": [
    "Training della cnn con le classi da più di 50 immagini"
   ]
  },
  {
   "cell_type": "code",
   "execution_count": null,
   "id": "7f8d8067",
   "metadata": {},
   "outputs": [],
   "source": [
    "class_list_50 = [f for f in dataset if len(os.listdir(os.path.join(DATA_DIR, f))) > 499 and\n",
    "              os.path.isdir(os.path.join(DATA_DIR, f))]\n",
    "n_classes_50 = len(class_list_50)\n",
    "print(f'Total classes found: {n_classes_50}')\n",
    "\n",
    "split_ds_50 = get_split(DATA_DIR, class_list_50, split_perc, h, w)"
   ]
  },
  {
   "cell_type": "code",
   "execution_count": null,
   "id": "96fc82b1",
   "metadata": {},
   "outputs": [],
   "source": [
    "train(split_ds_50['train'], split_ds_50['val'], patience=5, cp_path='checkpoints', w_h=(w, h), n_classes=n_classes_50)"
   ]
  },
  {
   "cell_type": "markdown",
   "id": "6887cba9",
   "metadata": {},
   "source": [
    "Training della cnn con tutte le classi"
   ]
  },
  {
   "cell_type": "code",
   "execution_count": null,
   "id": "55406b29",
   "metadata": {},
   "outputs": [],
   "source": [
    "class_list_all = [f for f in dataset if len(os.listdir(os.path.join(DATA_DIR, f))) > 499 and\n",
    "              os.path.isdir(os.path.join(DATA_DIR, f))]\n",
    "n_classes_all = len(class_list_all)\n",
    "print(f'Total classes found: {n_classes_all}')\n",
    "\n",
    "split_ds_all = get_split(DATA_DIR, class_list_all, split_perc, h, w)"
   ]
  },
  {
   "cell_type": "code",
   "execution_count": null,
   "id": "3ee544e2",
   "metadata": {},
   "outputs": [],
   "source": [
    "train(split_ds_all['train'], split_ds_all['val'], patience=5,cp_path='checkpoints', w_h = (w, h), n_classes=n_classes_all)"
   ]
  }
 ],
 "metadata": {
  "kernelspec": {
   "display_name": ".mmd",
   "language": "python",
   "name": "python3"
  },
  "language_info": {
   "codemirror_mode": {
    "name": "ipython",
    "version": 3
   },
   "file_extension": ".py",
   "mimetype": "text/x-python",
   "name": "python",
   "nbconvert_exporter": "python",
   "pygments_lexer": "ipython3",
   "version": "3.12.7"
  }
 },
 "nbformat": 4,
 "nbformat_minor": 5
}
