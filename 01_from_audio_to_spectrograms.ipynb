{
 "cells": [
  {
   "cell_type": "code",
   "execution_count": 9,
   "id": "baeb2af0",
   "metadata": {},
   "outputs": [],
   "source": [
    "import os\n",
    "import pandas as pd\n",
    "import soundfile as sf\n",
    "from soundfile import LibsndfileError\n",
    "from scipy import signal\n",
    "import numpy as np\n",
    "import matplotlib.pyplot as plt\n",
    "import matplotlib\n",
    "from ds_creation.download_utils import download_dataset\n",
    "from ds_creation.ds_utility import species_spec\n",
    "from ds_creation.plot_utility import process_audio_files, tsne_calc\n",
    "\n",
    "# folder for metadata\n",
    "md_path = os.path.join('data_cache', 'metadata')\n",
    "if not os.path.exists(md_path):\n",
    "    os.makedirs(md_path)\n",
    "\n",
    "# folders for data\n",
    "ds_dir = 'data'\n",
    "audio_dir = 'audio'\n",
    "spec_dir = 'mammals_calls_grey'\n",
    "\n",
    "data_path = os.path.join(ds_dir, audio_dir)\n",
    "if not os.path.exists(data_path):\n",
    "    os.makedirs(data_path)\n",
    "    \n",
    "spec_path = os.path.join(ds_dir, spec_dir)\n",
    "if not os.path.exists(spec_path):\n",
    "    os.makedirs(spec_path)\n",
    "\n",
    "npy_path = os.path.join(ds_dir, 'npy_files')\n",
    "if not os.path.exists(npy_path):\n",
    "    os.makedirs(npy_path)   \n",
    "\n",
    "DOWNLOAD_FILES = False\n",
    "url = 'https://whoicf2.whoi.edu/science/B/whalesounds/fullCuts.cfm'\n",
    "\n",
    "MODELS_METRICS_DIR = 'models_metrics'\n",
    "if not os.path.exists(MODELS_METRICS_DIR):\n",
    "    os.makedirs(MODELS_METRICS_DIR)\n"
   ]
  },
  {
   "cell_type": "markdown",
   "id": "73c59a6c",
   "metadata": {},
   "source": [
    "## Download dataset"
   ]
  },
  {
   "cell_type": "code",
   "execution_count": 10,
   "id": "ab3f7c20",
   "metadata": {},
   "outputs": [],
   "source": [
    "if DOWNLOAD_FILES:\n",
    "    download_dataset(data_path, url, 'getSpecies', 'pickYear')"
   ]
  },
  {
   "cell_type": "code",
   "execution_count": 11,
   "id": "6c26f8a3",
   "metadata": {},
   "outputs": [],
   "source": [
    "# Create metadata file with species and file counts\n",
    "folder_list = []\n",
    "for folder in os.listdir(data_path):\n",
    "    folder_path = os.path.join(data_path, folder)\n",
    "    print(f'Processing species {folder}')\n",
    "    if os.path.isdir(folder_path):\n",
    "        for file in os.listdir(folder_path):\n",
    "            if file.endswith('.wav'):\n",
    "                file_path = os.path.join(folder_path, file)\n",
    "                try:\n",
    "                    f = sf.SoundFile(file_path)\n",
    "                    duration = int(f.frames / f.samplerate)\n",
    "                    f.close()\n",
    "                except LibsndfileError as e:\n",
    "                    print(f'Error reading {file_path}: {e}')\n",
    "                    continue\n",
    "\n",
    "                folder_list.append({'species': folder, 'filename': file, 'duration_sec': duration})\n",
    "\n",
    "\n",
    "species_df = pd.DataFrame(folder_list)\n",
    "species_df.to_csv(os.path.join(md_path, 'files_len.csv'), index=False)"
   ]
  },
  {
   "cell_type": "markdown",
   "id": "8020776e",
   "metadata": {},
   "source": [
    "Nel file 'files_len.csv' sono presenti tutte le durate dei singoli file audio in secondi arrotondati per difetto, quindi vado a contare quanti ritagli da 2 secondi riesco ad ottenere per ogni specie con la sliding window con hop di 1 secondo."
   ]
  },
  {
   "cell_type": "code",
   "execution_count": 12,
   "id": "746f98e2",
   "metadata": {},
   "outputs": [
    {
     "ename": "EmptyDataError",
     "evalue": "No columns to parse from file",
     "output_type": "error",
     "traceback": [
      "\u001b[31m---------------------------------------------------------------------------\u001b[39m",
      "\u001b[31mEmptyDataError\u001b[39m                            Traceback (most recent call last)",
      "\u001b[36mCell\u001b[39m\u001b[36m \u001b[39m\u001b[32mIn[12]\u001b[39m\u001b[32m, line 1\u001b[39m\n\u001b[32m----> \u001b[39m\u001b[32m1\u001b[39m md_ds = \u001b[43mpd\u001b[49m\u001b[43m.\u001b[49m\u001b[43mread_csv\u001b[49m\u001b[43m(\u001b[49m\u001b[43mos\u001b[49m\u001b[43m.\u001b[49m\u001b[43mpath\u001b[49m\u001b[43m.\u001b[49m\u001b[43mjoin\u001b[49m\u001b[43m(\u001b[49m\u001b[43mmd_path\u001b[49m\u001b[43m,\u001b[49m\u001b[43m \u001b[49m\u001b[33;43m'\u001b[39;49m\u001b[33;43mfiles_len.csv\u001b[39;49m\u001b[33;43m'\u001b[39;49m\u001b[43m)\u001b[49m\u001b[43m)\u001b[49m\n\u001b[32m      2\u001b[39m md_ds = md_ds.dropna(subset=[\u001b[33m'\u001b[39m\u001b[33mduration_sec\u001b[39m\u001b[33m'\u001b[39m])\n\u001b[32m      3\u001b[39m long_md_ds = md_ds[md_ds[\u001b[33m'\u001b[39m\u001b[33mduration_sec\u001b[39m\u001b[33m'\u001b[39m] > \u001b[32m1\u001b[39m]\n",
      "\u001b[36mFile \u001b[39m\u001b[32m~/miniconda3/envs/.mmd_env/lib/python3.12/site-packages/pandas/io/parsers/readers.py:1026\u001b[39m, in \u001b[36mread_csv\u001b[39m\u001b[34m(filepath_or_buffer, sep, delimiter, header, names, index_col, usecols, dtype, engine, converters, true_values, false_values, skipinitialspace, skiprows, skipfooter, nrows, na_values, keep_default_na, na_filter, verbose, skip_blank_lines, parse_dates, infer_datetime_format, keep_date_col, date_parser, date_format, dayfirst, cache_dates, iterator, chunksize, compression, thousands, decimal, lineterminator, quotechar, quoting, doublequote, escapechar, comment, encoding, encoding_errors, dialect, on_bad_lines, delim_whitespace, low_memory, memory_map, float_precision, storage_options, dtype_backend)\u001b[39m\n\u001b[32m   1013\u001b[39m kwds_defaults = _refine_defaults_read(\n\u001b[32m   1014\u001b[39m     dialect,\n\u001b[32m   1015\u001b[39m     delimiter,\n\u001b[32m   (...)\u001b[39m\u001b[32m   1022\u001b[39m     dtype_backend=dtype_backend,\n\u001b[32m   1023\u001b[39m )\n\u001b[32m   1024\u001b[39m kwds.update(kwds_defaults)\n\u001b[32m-> \u001b[39m\u001b[32m1026\u001b[39m \u001b[38;5;28;01mreturn\u001b[39;00m \u001b[43m_read\u001b[49m\u001b[43m(\u001b[49m\u001b[43mfilepath_or_buffer\u001b[49m\u001b[43m,\u001b[49m\u001b[43m \u001b[49m\u001b[43mkwds\u001b[49m\u001b[43m)\u001b[49m\n",
      "\u001b[36mFile \u001b[39m\u001b[32m~/miniconda3/envs/.mmd_env/lib/python3.12/site-packages/pandas/io/parsers/readers.py:620\u001b[39m, in \u001b[36m_read\u001b[39m\u001b[34m(filepath_or_buffer, kwds)\u001b[39m\n\u001b[32m    617\u001b[39m _validate_names(kwds.get(\u001b[33m\"\u001b[39m\u001b[33mnames\u001b[39m\u001b[33m\"\u001b[39m, \u001b[38;5;28;01mNone\u001b[39;00m))\n\u001b[32m    619\u001b[39m \u001b[38;5;66;03m# Create the parser.\u001b[39;00m\n\u001b[32m--> \u001b[39m\u001b[32m620\u001b[39m parser = \u001b[43mTextFileReader\u001b[49m\u001b[43m(\u001b[49m\u001b[43mfilepath_or_buffer\u001b[49m\u001b[43m,\u001b[49m\u001b[43m \u001b[49m\u001b[43m*\u001b[49m\u001b[43m*\u001b[49m\u001b[43mkwds\u001b[49m\u001b[43m)\u001b[49m\n\u001b[32m    622\u001b[39m \u001b[38;5;28;01mif\u001b[39;00m chunksize \u001b[38;5;129;01mor\u001b[39;00m iterator:\n\u001b[32m    623\u001b[39m     \u001b[38;5;28;01mreturn\u001b[39;00m parser\n",
      "\u001b[36mFile \u001b[39m\u001b[32m~/miniconda3/envs/.mmd_env/lib/python3.12/site-packages/pandas/io/parsers/readers.py:1620\u001b[39m, in \u001b[36mTextFileReader.__init__\u001b[39m\u001b[34m(self, f, engine, **kwds)\u001b[39m\n\u001b[32m   1617\u001b[39m     \u001b[38;5;28mself\u001b[39m.options[\u001b[33m\"\u001b[39m\u001b[33mhas_index_names\u001b[39m\u001b[33m\"\u001b[39m] = kwds[\u001b[33m\"\u001b[39m\u001b[33mhas_index_names\u001b[39m\u001b[33m\"\u001b[39m]\n\u001b[32m   1619\u001b[39m \u001b[38;5;28mself\u001b[39m.handles: IOHandles | \u001b[38;5;28;01mNone\u001b[39;00m = \u001b[38;5;28;01mNone\u001b[39;00m\n\u001b[32m-> \u001b[39m\u001b[32m1620\u001b[39m \u001b[38;5;28mself\u001b[39m._engine = \u001b[38;5;28;43mself\u001b[39;49m\u001b[43m.\u001b[49m\u001b[43m_make_engine\u001b[49m\u001b[43m(\u001b[49m\u001b[43mf\u001b[49m\u001b[43m,\u001b[49m\u001b[43m \u001b[49m\u001b[38;5;28;43mself\u001b[39;49m\u001b[43m.\u001b[49m\u001b[43mengine\u001b[49m\u001b[43m)\u001b[49m\n",
      "\u001b[36mFile \u001b[39m\u001b[32m~/miniconda3/envs/.mmd_env/lib/python3.12/site-packages/pandas/io/parsers/readers.py:1898\u001b[39m, in \u001b[36mTextFileReader._make_engine\u001b[39m\u001b[34m(self, f, engine)\u001b[39m\n\u001b[32m   1895\u001b[39m     \u001b[38;5;28;01mraise\u001b[39;00m \u001b[38;5;167;01mValueError\u001b[39;00m(msg)\n\u001b[32m   1897\u001b[39m \u001b[38;5;28;01mtry\u001b[39;00m:\n\u001b[32m-> \u001b[39m\u001b[32m1898\u001b[39m     \u001b[38;5;28;01mreturn\u001b[39;00m \u001b[43mmapping\u001b[49m\u001b[43m[\u001b[49m\u001b[43mengine\u001b[49m\u001b[43m]\u001b[49m\u001b[43m(\u001b[49m\u001b[43mf\u001b[49m\u001b[43m,\u001b[49m\u001b[43m \u001b[49m\u001b[43m*\u001b[49m\u001b[43m*\u001b[49m\u001b[38;5;28;43mself\u001b[39;49m\u001b[43m.\u001b[49m\u001b[43moptions\u001b[49m\u001b[43m)\u001b[49m\n\u001b[32m   1899\u001b[39m \u001b[38;5;28;01mexcept\u001b[39;00m \u001b[38;5;167;01mException\u001b[39;00m:\n\u001b[32m   1900\u001b[39m     \u001b[38;5;28;01mif\u001b[39;00m \u001b[38;5;28mself\u001b[39m.handles \u001b[38;5;129;01mis\u001b[39;00m \u001b[38;5;129;01mnot\u001b[39;00m \u001b[38;5;28;01mNone\u001b[39;00m:\n",
      "\u001b[36mFile \u001b[39m\u001b[32m~/miniconda3/envs/.mmd_env/lib/python3.12/site-packages/pandas/io/parsers/c_parser_wrapper.py:93\u001b[39m, in \u001b[36mCParserWrapper.__init__\u001b[39m\u001b[34m(self, src, **kwds)\u001b[39m\n\u001b[32m     90\u001b[39m \u001b[38;5;28;01mif\u001b[39;00m kwds[\u001b[33m\"\u001b[39m\u001b[33mdtype_backend\u001b[39m\u001b[33m\"\u001b[39m] == \u001b[33m\"\u001b[39m\u001b[33mpyarrow\u001b[39m\u001b[33m\"\u001b[39m:\n\u001b[32m     91\u001b[39m     \u001b[38;5;66;03m# Fail here loudly instead of in cython after reading\u001b[39;00m\n\u001b[32m     92\u001b[39m     import_optional_dependency(\u001b[33m\"\u001b[39m\u001b[33mpyarrow\u001b[39m\u001b[33m\"\u001b[39m)\n\u001b[32m---> \u001b[39m\u001b[32m93\u001b[39m \u001b[38;5;28mself\u001b[39m._reader = \u001b[43mparsers\u001b[49m\u001b[43m.\u001b[49m\u001b[43mTextReader\u001b[49m\u001b[43m(\u001b[49m\u001b[43msrc\u001b[49m\u001b[43m,\u001b[49m\u001b[43m \u001b[49m\u001b[43m*\u001b[49m\u001b[43m*\u001b[49m\u001b[43mkwds\u001b[49m\u001b[43m)\u001b[49m\n\u001b[32m     95\u001b[39m \u001b[38;5;28mself\u001b[39m.unnamed_cols = \u001b[38;5;28mself\u001b[39m._reader.unnamed_cols\n\u001b[32m     97\u001b[39m \u001b[38;5;66;03m# error: Cannot determine type of 'names'\u001b[39;00m\n",
      "\u001b[36mFile \u001b[39m\u001b[32mpandas/_libs/parsers.pyx:581\u001b[39m, in \u001b[36mpandas._libs.parsers.TextReader.__cinit__\u001b[39m\u001b[34m()\u001b[39m\n",
      "\u001b[31mEmptyDataError\u001b[39m: No columns to parse from file"
     ]
    }
   ],
   "source": [
    "md_ds = pd.read_csv(os.path.join(md_path, 'files_len.csv'))\n",
    "md_ds = md_ds.dropna(subset=['duration_sec'])\n",
    "long_md_ds = md_ds[md_ds['duration_sec'] > 1]"
   ]
  },
  {
   "cell_type": "code",
   "execution_count": null,
   "id": "5830250b",
   "metadata": {},
   "outputs": [],
   "source": [
    "# dataframe with all audio and dataframe with audio longer than 1 second\n",
    "tot_audio_df = md_ds.drop(columns=['filename'])\n",
    "long_audio_df = long_md_ds.drop(columns=['filename'])\n",
    "\n",
    "# sum of audio lengths by species\n",
    "sum_audio_len = tot_audio_df.groupby('species').agg(all_audio_len = ('duration_sec', 'sum'))\n",
    "sum_long_audio_len = long_audio_df.groupby('species').agg(filtered_audio_len = ('duration_sec', 'sum'))\n",
    "\n",
    "# merge dataframes and calculate the number of seconds lost by filtering out audio shorter than 2 seconds\n",
    "sum_audio_len['filtered_audio_len'] = sum_long_audio_len['filtered_audio_len']\n",
    "sum_audio_len['difference'] = sum_audio_len['all_audio_len'] - sum_audio_len['filtered_audio_len']\n",
    "\n",
    "print(sum_audio_len.sort_values(by='difference', ascending=False))"
   ]
  },
  {
   "cell_type": "markdown",
   "id": "722bdeb2",
   "metadata": {},
   "source": [
    "## Creazione spettrogrammi"
   ]
  },
  {
   "cell_type": "code",
   "execution_count": null,
   "id": "d75917b2",
   "metadata": {},
   "outputs": [],
   "source": [
    "FRAME_SIZE = 1024\n",
    "HOP_SIZE = 512\n",
    "OUTPUT_DIR = spec_path\n",
    "CHUNK_SIZE = 2"
   ]
  },
  {
   "cell_type": "code",
   "execution_count": null,
   "id": "58c85c24",
   "metadata": {},
   "outputs": [],
   "source": [
    "tree = os.walk(os.path.join(data_path))\n",
    "root, dirs, files = next(tree)\n",
    "unpopular_species_list = md_ds['species'].unique()\n",
    "\n",
    "stf_config = {'frame_win': FRAME_SIZE, 'hop': HOP_SIZE, 'fs': FRAME_SIZE}\n",
    "spec_config = {'size': CHUNK_SIZE, 'hop': CHUNK_SIZE}\n",
    "\n",
    "output_dir = {'spec': spec_path, 'num': npy_path}\n",
    "\n",
    "species_spec(dirs, unpopular_species_list, output_dir, data_path, stf_config, spec_config, 'gray')"
   ]
  },
  {
   "cell_type": "markdown",
   "id": "f170eee8",
   "metadata": {},
   "source": [
    "## Calcolo del MFCC"
   ]
  },
  {
   "cell_type": "code",
   "execution_count": null,
   "id": "0f625eca",
   "metadata": {},
   "outputs": [],
   "source": [
    "audio_df_exploded, mfcc_matrix = process_audio_files(species_df['species'].tolist(), data_path, MODELS_METRICS_DIR)\n",
    "print(f'Different species in audio dataset: {audio_df_exploded[\"species\"].unique()}')\n",
    "print(audio_df_exploded.head())\n"
   ]
  },
  {
   "cell_type": "code",
   "execution_count": null,
   "id": "f5c8b3e2",
   "metadata": {},
   "outputs": [],
   "source": [
    "tsne_df = tsne_calc(audio_df_exploded, mfcc_matrix, MODELS_METRICS_DIR)"
   ]
  }
 ],
 "metadata": {
  "kernelspec": {
   "display_name": "Python 3 (ipykernel)",
   "language": "python",
   "name": "python3"
  },
  "language_info": {
   "codemirror_mode": {
    "name": "ipython",
    "version": 3
   },
   "file_extension": ".py",
   "mimetype": "text/x-python",
   "name": "python",
   "nbconvert_exporter": "python",
   "pygments_lexer": "ipython3",
   "version": "3.12.7"
  }
 },
 "nbformat": 4,
 "nbformat_minor": 5
}
