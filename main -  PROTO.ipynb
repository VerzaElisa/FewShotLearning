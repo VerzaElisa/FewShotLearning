{
 "cells": [
  {
   "cell_type": "code",
   "execution_count": null,
   "id": "b5e2b8df",
   "metadata": {},
   "outputs": [],
   "source": [
    "import os\n",
    "import pandas as pd\n",
    "from prototypical.train import train\n",
    "\n",
    "DATA_DIR = os.path.join('data', 'mammals_calls')"
   ]
  },
  {
   "cell_type": "code",
   "execution_count": null,
   "id": "fb1e4def",
   "metadata": {},
   "outputs": [],
   "source": [
    "config = {\n",
    "    \"data.dataset\": DATA_DIR,\n",
    "    \"data.train_way\": 3,\n",
    "    \"data.train_support\": 5,\n",
    "    \"data.train_query\": 5,\n",
    "    \"data.test_way\": 3,\n",
    "    \"data.test_support\": 5,\n",
    "    \"data.test_query\": 5,\n",
    "    \"data.episodes\": 10,\n",
    "    \"model.x_dim\": \"397,164,3\",\n",
    "    \"train.epochs\": 50,\n",
    "    \"train.lr\": 0.001,\n",
    "    \"train.patience\": 3,\n",
    "    \"model.save_path\": 'test_marine_mammals.h5'\n",
    "}\n",
    "class_split = os.listdir(DATA_DIR)\n",
    "split_list = []\n",
    "split_dict = {}\n",
    "for dir in class_split:\n",
    "    dir_len = len(os.listdir(os.path.join(DATA_DIR, dir)))\n",
    "    if dir_len > 100 and dir_len < 1000:\n",
    "        split_list.append(dir)\n",
    "train_len = len(split_list)/2\n",
    "for i in range(len(split_list)):\n",
    "    split = 'train' if i < train_len else 'val'\n",
    "    split_dict[class_split[i]] = split\n",
    "\n",
    "split_df = pd.DataFrame(list(split_dict.items()), columns=['class', 'split'])\n",
    "print(split_df)\n",
    "train(config, split_df)"
   ]
  },
  {
   "cell_type": "code",
   "execution_count": null,
   "id": "58809020",
   "metadata": {},
   "outputs": [],
   "source": []
  }
 ],
 "metadata": {
  "kernelspec": {
   "display_name": ".mmd",
   "language": "python",
   "name": "python3"
  },
  "language_info": {
   "codemirror_mode": {
    "name": "ipython",
    "version": 3
   },
   "file_extension": ".py",
   "mimetype": "text/x-python",
   "name": "python",
   "nbconvert_exporter": "python",
   "pygments_lexer": "ipython3",
   "version": "3.12.7"
  }
 },
 "nbformat": 4,
 "nbformat_minor": 5
}
