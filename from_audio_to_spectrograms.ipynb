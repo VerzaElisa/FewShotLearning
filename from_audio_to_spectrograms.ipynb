{
 "cells": [
  {
   "cell_type": "code",
   "execution_count": null,
   "id": "baeb2af0",
   "metadata": {},
   "outputs": [],
   "source": [
    "import os\n",
    "import pandas as pd\n",
    "import soundfile as sf\n",
    "from soundfile import LibsndfileError\n",
    "from scipy import signal\n",
    "import numpy as np\n",
    "import matplotlib.pyplot as plt\n",
    "import matplotlib\n",
    "from ds_creation.download_utils import download_dataset\n",
    "from ds_creation.ds_utility import species_spec\n",
    "\n",
    "# folder for metadata\n",
    "md_path = os.path.join('data_cache', 'metadata')\n",
    "if not os.path.exists(md_path):\n",
    "    os.makedirs(md_path)\n",
    "\n",
    "# folders for data\n",
    "ds_dir = 'data'\n",
    "audio_dir = 'audio'\n",
    "spec_dir = 'mammals_calls_grey'\n",
    "\n",
    "data_path = os.path.join(ds_dir, audio_dir)\n",
    "if not os.path.exists(data_path):\n",
    "    os.makedirs(data_path)\n",
    "    \n",
    "spec_path = os.path.join(ds_dir, spec_dir)\n",
    "if not os.path.exists(spec_path):\n",
    "    os.makedirs(spec_path)\n",
    "\n",
    "npy_path = os.path.join(ds_dir, 'npy_files')\n",
    "if not os.path.exists(npy_path):\n",
    "    os.makedirs(npy_path)   \n",
    "\n",
    "DOWNLOAD_FILES = False\n",
    "url = 'https://whoicf2.whoi.edu/science/B/whalesounds/fullCuts.cfm'"
   ]
  },
  {
   "cell_type": "markdown",
   "id": "73c59a6c",
   "metadata": {},
   "source": [
    "## Download dataset"
   ]
  },
  {
   "cell_type": "code",
   "execution_count": null,
   "id": "ab3f7c20",
   "metadata": {},
   "outputs": [],
   "source": [
    "if DOWNLOAD_FILES:\n",
    "    download_dataset(data_path, url, 'getSpecies', 'pickYear')"
   ]
  },
  {
   "cell_type": "code",
   "execution_count": null,
   "id": "6c26f8a3",
   "metadata": {},
   "outputs": [],
   "source": [
    "# Create metadata file with species and file counts\n",
    "folder_list = []\n",
    "for folder in os.listdir(data_path):\n",
    "    folder_path = os.path.join(data_path, folder)\n",
    "    print(f'Processing species {folder}')\n",
    "    if os.path.isdir(folder_path):\n",
    "        for file in os.listdir(folder_path):\n",
    "            if file.endswith('.wav'):\n",
    "                file_path = os.path.join(folder_path, file)\n",
    "                try:\n",
    "                    f = sf.SoundFile(file_path)\n",
    "                    duration = int(f.frames / f.samplerate)\n",
    "                    f.close()\n",
    "                except LibsndfileError as e:\n",
    "                    print(f'Error reading {file_path}: {e}')\n",
    "                    continue\n",
    "\n",
    "                folder_list.append({'species': folder, 'filename': file, 'duration_sec': duration})\n",
    "\n",
    "\n",
    "species_df = pd.DataFrame(folder_list)\n",
    "species_df.to_csv(os.path.join(md_path, 'files_len.csv'), index=False)"
   ]
  },
  {
   "cell_type": "markdown",
   "id": "8020776e",
   "metadata": {},
   "source": [
    "Nel file 'files_len.csv' sono presenti tutte le durate dei singoli file audio in secondi arrotondati per difetto, quindi vado a contare quanti ritagli da 2 secondi riesco ad ottenere per ogni specie con la sliding window con hop di 1 secondo."
   ]
  },
  {
   "cell_type": "code",
   "execution_count": null,
   "id": "746f98e2",
   "metadata": {},
   "outputs": [],
   "source": [
    "md_ds = pd.read_csv(os.path.join(md_path, 'files_len.csv'))\n",
    "md_ds = md_ds.dropna(subset=['duration_sec'])\n",
    "long_md_ds = md_ds[md_ds['duration_sec'] > 1]"
   ]
  },
  {
   "cell_type": "code",
   "execution_count": null,
   "id": "5830250b",
   "metadata": {},
   "outputs": [],
   "source": [
    "# dataframe with all audio and dataframe with audio longer than 1 second\n",
    "tot_audio_df = md_ds.drop(columns=['filename'])\n",
    "long_audio_df = long_md_ds.drop(columns=['filename'])\n",
    "\n",
    "# sum of audio lengths by species\n",
    "sum_audio_len = tot_audio_df.groupby('species').agg(all_audio_len = ('duration_sec', 'sum'))\n",
    "sum_long_audio_len = long_audio_df.groupby('species').agg(filtered_audio_len = ('duration_sec', 'sum'))\n",
    "\n",
    "# merge dataframes and calculate the number of seconds lost by filtering out audio shorter than 2 seconds\n",
    "sum_audio_len['filtered_audio_len'] = sum_long_audio_len['filtered_audio_len']\n",
    "sum_audio_len['difference'] = sum_audio_len['all_audio_len'] - sum_audio_len['filtered_audio_len']\n",
    "\n",
    "print(sum_audio_len.sort_values(by='difference', ascending=False))"
   ]
  },
  {
   "cell_type": "markdown",
   "id": "722bdeb2",
   "metadata": {},
   "source": [
    "## Creazione spettrogrammi"
   ]
  },
  {
   "cell_type": "code",
   "execution_count": null,
   "id": "d75917b2",
   "metadata": {},
   "outputs": [],
   "source": [
    "FRAME_SIZE = 1024\n",
    "HOP_SIZE = 512\n",
    "OUTPUT_DIR = spec_path\n",
    "CHUNK_SIZE = 2"
   ]
  },
  {
   "cell_type": "code",
   "execution_count": null,
   "id": "58c85c24",
   "metadata": {},
   "outputs": [],
   "source": [
    "tree = os.walk(os.path.join(data_path))\n",
    "root, dirs, files = next(tree)\n",
    "unpopular_species_list = md_ds['species'].unique()\n",
    "\n",
    "stf_config = {'frame_win': FRAME_SIZE, 'hop': HOP_SIZE, 'fs': FRAME_SIZE}\n",
    "spec_config = {'size': CHUNK_SIZE, 'hop': CHUNK_SIZE}\n",
    "\n",
    "output_dir = {'spec': spec_path, 'num': npy_path}\n",
    "\n",
    "species_spec(dirs, unpopular_species_list, output_dir, data_path, stf_config, spec_config, 'gray')"
   ]
  }
 ],
 "metadata": {
  "kernelspec": {
   "display_name": ".mmd",
   "language": "python",
   "name": "python3"
  },
  "language_info": {
   "codemirror_mode": {
    "name": "ipython",
    "version": 3
   },
   "file_extension": ".py",
   "mimetype": "text/x-python",
   "name": "python",
   "nbconvert_exporter": "python",
   "pygments_lexer": "ipython3",
   "version": "3.12.7"
  }
 },
 "nbformat": 4,
 "nbformat_minor": 5
}
